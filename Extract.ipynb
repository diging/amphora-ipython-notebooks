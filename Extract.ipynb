{
 "cells": [
  {
   "cell_type": "code",
   "execution_count": 102,
   "metadata": {},
   "outputs": [],
   "source": [
    "import re\n",
    "import pandas as pd\n",
    "import csv\n",
    "import string\n",
    "import tkinter as tk\n",
    "# Uncomment the next two lines if you want to see expanded output\n",
    "#pd.options.display.max_colwidth\n",
    "#pd.set_option('display.max_colwidth', -1)\n",
    "\n",
    "# Will open file picker in new window\n",
    "file_path = tk.filedialog.askopenfilename()\n",
    "f = open(file_path)\n",
    "text = f.read()"
   ]
  },
  {
   "cell_type": "code",
   "execution_count": 103,
   "metadata": {},
   "outputs": [],
   "source": [
    "# Will open file picker in new window\n",
    "csv_file_path = tk.filedialog.askopenfilename()\n",
    "df = pd.read_csv(csv_file_path)"
   ]
  },
  {
   "cell_type": "code",
   "execution_count": 107,
   "metadata": {},
   "outputs": [],
   "source": [
    "    #text = re.sub(r'\\(', r'\\\\(', text ) #Need to escape paraenthesis due to regex\n",
    "    #text = re.sub(r'\\)', r'\\\\)', text )\n",
    "    text = re.sub('\\?', ' ', text )\n",
    "    text = re.sub('\\\\n', ' ', text )\n",
    "    text = re.sub('\\\\r', ' ', text )\n",
    "    text = re.sub('\\s+', ' ', text)"
   ]
  },
  {
   "cell_type": "code",
   "execution_count": 108,
   "metadata": {},
   "outputs": [],
   "source": [
    "df['Segment'] = df['Segment'].replace(to_replace='\\\\r', value=' ', regex=True)\n"
   ]
  },
  {
   "cell_type": "code",
   "execution_count": 109,
   "metadata": {},
   "outputs": [
    {
     "name": "stdout",
     "output_type": "stream",
     "text": [
      "Th total number of matches is 24\n"
     ]
    }
   ],
   "source": [
    "'''\n",
    "If total is off uncomment lines to check why\n",
    "'''\n",
    "\n",
    "count = 0\n",
    "with open('/Users/taylorquinn/Desktop/1522.csv', \"w\") as csv_file:\n",
    "    writer = csv.writer(csv_file, delimiter=',')\n",
    "    header = [\"Segment\", \"Start\", \"End\"]\n",
    "    writer.writerow(header)\n",
    "    for index, row in df.iterrows():\n",
    "        l = []\n",
    "        printable = set(string.printable)\n",
    "        seg = row['Segment']\n",
    "        seg = re.sub(r'\\(', r'\\\\(', seg ) #Need to escape paraenthesis due to regex\n",
    "        seg = re.sub(r'\\)', r'\\\\)', seg )\n",
    "        seg = re.sub(r'\\?', r' ', seg )\n",
    "        seg = re.sub(r'[^\\x00-\\x7F]+',' ', seg)\n",
    "        seg = re.sub(r'\\s+', ' ', seg)\n",
    "        m = re.search(seg, text, re.M | re.DOTALL)\n",
    "        #print(seg)\n",
    "        if m:\n",
    "            found = m.group(0)\n",
    "            l.append(str(found))\n",
    "            l.append(str(m.start()))\n",
    "            l.append(str(m.end()))\n",
    "            writer.writerow(l)\n",
    "            #print(m.start(), m.end())\n",
    "            #print(\"FOUND\")\n",
    "            #print(found)\n",
    "            count += 1\n",
    "        #print(\"***********************\")\n",
    "print(\"Th total number of matches is {}\".format(count))"
   ]
  },
  {
   "cell_type": "code",
   "execution_count": null,
   "metadata": {},
   "outputs": [],
   "source": []
  },
  {
   "cell_type": "code",
   "execution_count": null,
   "metadata": {},
   "outputs": [],
   "source": []
  }
 ],
 "metadata": {
  "kernelspec": {
   "display_name": "Python 3",
   "language": "python",
   "name": "python3"
  },
  "language_info": {
   "codemirror_mode": {
    "name": "ipython",
    "version": 3
   },
   "file_extension": ".py",
   "mimetype": "text/x-python",
   "name": "python",
   "nbconvert_exporter": "python",
   "pygments_lexer": "ipython3",
   "version": "3.6.6"
  }
 },
 "nbformat": 4,
 "nbformat_minor": 2
}
