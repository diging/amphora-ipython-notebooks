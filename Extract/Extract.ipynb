{
 "cells": [
  {
   "cell_type": "code",
   "execution_count": 38,
   "metadata": {},
   "outputs": [],
   "source": [
    "import re\n",
    "import pandas as pd\n",
    "import csv\n",
    "import string\n",
    "from tkinter import *\n",
    "from tkinter.filedialog import askopenfilename\n",
    "import time\n",
    "import os\n",
    "import urllib\n",
    "from pathlib import Path\n",
    "# Uncomment the next two lines if you want to see expanded output\n",
    "#pd.options.display.max_colwidth\n",
    "#pd.set_option('display.max_colwidth', -1)"
   ]
  },
  {
   "cell_type": "markdown",
   "metadata": {},
   "source": [
    "###Select the text you want to upload\n",
    "This will open a file picker in a new window"
   ]
  },
  {
   "cell_type": "code",
   "execution_count": 39,
   "metadata": {},
   "outputs": [],
   "source": [
    "root = Tk()\n",
    "root.withdraw()\n",
    "file_path = askopenfilename()\n",
    "f = open(file_path)\n",
    "text = f.read()\n",
    "root.update()\n",
    "root.destroy()"
   ]
  },
  {
   "cell_type": "markdown",
   "metadata": {},
   "source": [
    "###Select the exsisting annotations you want to upload\n",
    "This will open a file picker in a new window"
   ]
  },
  {
   "cell_type": "code",
   "execution_count": 40,
   "metadata": {},
   "outputs": [],
   "source": [
    "root = Tk()\n",
    "root.withdraw()\n",
    "csv_file_path = askopenfilename()\n",
    "df = pd.read_csv(csv_file_path)\n",
    "root.update()\n",
    "root.destroy()"
   ]
  },
  {
   "cell_type": "markdown",
   "metadata": {},
   "source": [
    "###Find downloads folder windows, linux, mac"
   ]
  },
  {
   "cell_type": "code",
   "execution_count": 41,
   "metadata": {},
   "outputs": [],
   "source": [
    "if os.name == 'nt':\n",
    "    import ctypes\n",
    "    from ctypes import windll, wintypes\n",
    "    from uuid import UUID\n",
    "\n",
    "    # ctypes GUID copied from MSDN sample code\n",
    "    class GUID(ctypes.Structure):\n",
    "        _fields_ = [\n",
    "            (\"Data1\", wintypes.DWORD),\n",
    "            (\"Data2\", wintypes.WORD),\n",
    "            (\"Data3\", wintypes.WORD),\n",
    "            (\"Data4\", wintypes.BYTE * 8)\n",
    "        ] \n",
    "\n",
    "        def __init__(self, uuidstr):\n",
    "            uuid = UUID(uuidstr)\n",
    "            ctypes.Structure.__init__(self)\n",
    "            self.Data1, self.Data2, self.Data3, \\\n",
    "                self.Data4[0], self.Data4[1], rest = uuid.fields\n",
    "            for i in range(2, 8):\n",
    "                self.Data4[i] = rest>>(8-i-1)*8 & 0xff\n",
    "\n",
    "    SHGetKnownFolderPath = windll.shell32.SHGetKnownFolderPath\n",
    "    SHGetKnownFolderPath.argtypes = [\n",
    "        ctypes.POINTER(GUID), wintypes.DWORD,\n",
    "        wintypes.HANDLE, ctypes.POINTER(ctypes.c_wchar_p)\n",
    "    ]\n",
    "\n",
    "    def _get_known_folder_path(uuidstr):\n",
    "        pathptr = ctypes.c_wchar_p()\n",
    "        guid = GUID(uuidstr)\n",
    "        if SHGetKnownFolderPath(ctypes.byref(guid), 0, 0, ctypes.byref(pathptr)):\n",
    "            raise ctypes.WinError()\n",
    "        return pathptr.value\n",
    "\n",
    "    FOLDERID_Download = '{374DE290-123F-4565-9164-39C4925E467B}'\n",
    "\n",
    "    def get_download_folder():\n",
    "        return _get_known_folder_path(FOLDERID_Download)\n",
    "else:\n",
    "    def get_download_folder():\n",
    "        home = os.path.expanduser(\"~\")\n",
    "        return os.path.join(home, \"Downloads\")"
   ]
  },
  {
   "cell_type": "markdown",
   "metadata": {},
   "source": [
    "###Get position of annotations in text (Mat take a while for large files). Will be in downloads folder"
   ]
  },
  {
   "cell_type": "code",
   "execution_count": 46,
   "metadata": {},
   "outputs": [
    {
     "name": "stdout",
     "output_type": "stream",
     "text": [
      "The total number of matches is 24\n"
     ]
    }
   ],
   "source": [
    "'''\n",
    "If total is off uncomment lines to check why\n",
    "'''\n",
    "root, ext = os.path.splitext(Path(file_path).name)\n",
    "name = get_download_folder()\n",
    "name = name + \"/\" + root + '.csv'\n",
    "#TODO change 1522.csv to use identifier\n",
    "#p = urllib.parse.urljoin(name, '1522.csv')\n",
    "count = 0\n",
    "with open(name, \"w\") as csv_file:\n",
    "    writer = csv.writer(csv_file, delimiter=',')\n",
    "    header = [\"Segment\", \"Start\", \"End\", \"Occurs\", \"Concept\"]\n",
    "    writer.writerow(header)\n",
    "    url =  'https://amphora.asu.edu/amphora/resource/' + root\n",
    "    for index, row in df.iterrows():\n",
    "        l = []\n",
    "        seg = row['Segment']\n",
    "        seg = re.sub(r'\\(', r'\\\\(', seg ) #Need to escape paraenthesis due to regex\n",
    "        seg = re.sub(r'\\)', r'\\\\)', seg )\n",
    "        seg = re.sub(r'\\?', r' ', seg )\n",
    "        seg = re.sub(r'[^\\x00-\\x7F]+',' ', seg)\n",
    "        seg = re.sub(r'\\s+', ' ', seg)\n",
    "        seg = re.sub(r'\\\\r', ' ', seg)\n",
    "        m = re.search(seg, text, re.M | re.DOTALL)\n",
    "        #print(seg)\n",
    "        if m:\n",
    "            found = m.group(0)\n",
    "            l.append(str(found))\n",
    "            l.append(str(m.start()))\n",
    "            l.append(str(m.end()))\n",
    "            l.append(url)\n",
    "            l.append( row['Code'])\n",
    "            writer.writerow(l)\n",
    "            #print(m.start(), m.end())\n",
    "            #print(\"FOUND\")\n",
    "            #print(found)\n",
    "            count += 1\n",
    "        else:\n",
    "            seg = re.sub(r'\\W+', '\\\\W+', seg)\n",
    "            m = re.search(seg, text, re.M | re.DOTALL)\n",
    "            if m:\n",
    "                pattern = re.compile(r'1522.txt')\n",
    "                found = m.group(0)\n",
    "                l.append(str(found))\n",
    "                l.append(str(m.start()))\n",
    "                l.append(str(m.end()))\n",
    "                l.append(url)\n",
    "                l.append( row['Code'])\n",
    "                writer.writerow(l)\n",
    "                #print(m.start(), m.end())\n",
    "                #print(\"FOUND\")\n",
    "                #print(found)\n",
    "                count += 1\n",
    "\n",
    "            \n",
    "        #print(\"***********************\")\n",
    "print(\"The total number of matches is {}\".format(count))"
   ]
  },
  {
   "cell_type": "code",
   "execution_count": 44,
   "metadata": {},
   "outputs": [
    {
     "data": {
      "text/plain": [
       "'/Users/taylorquinn/Desktop/MAXQDA.csv'"
      ]
     },
     "execution_count": 44,
     "metadata": {},
     "output_type": "execute_result"
    }
   ],
   "source": [
    "csv_file_path"
   ]
  },
  {
   "cell_type": "code",
   "execution_count": null,
   "metadata": {},
   "outputs": [],
   "source": []
  },
  {
   "cell_type": "code",
   "execution_count": null,
   "metadata": {},
   "outputs": [],
   "source": []
  },
  {
   "cell_type": "code",
   "execution_count": null,
   "metadata": {},
   "outputs": [],
   "source": []
  },
  {
   "cell_type": "code",
   "execution_count": null,
   "metadata": {},
   "outputs": [],
   "source": []
  }
 ],
 "metadata": {
  "kernelspec": {
   "display_name": "Python 3",
   "language": "python",
   "name": "python3"
  },
  "language_info": {
   "codemirror_mode": {
    "name": "ipython",
    "version": 3
   },
   "file_extension": ".py",
   "mimetype": "text/x-python",
   "name": "python",
   "nbconvert_exporter": "python",
   "pygments_lexer": "ipython3",
   "version": "3.6.6"
  }
 },
 "nbformat": 4,
 "nbformat_minor": 2
}
