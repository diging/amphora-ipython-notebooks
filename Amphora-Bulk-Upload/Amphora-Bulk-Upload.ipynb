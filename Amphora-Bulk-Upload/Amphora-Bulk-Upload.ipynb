{
 "cells": [
  {
   "cell_type": "markdown",
   "metadata": {},
   "source": [
    "# Amphora Bulk Upload\n",
    "\n",
    "This Notebook uploads files in a directory to Amphora through the API."
   ]
  },
  {
   "cell_type": "markdown",
   "metadata": {},
   "source": [
    "### Requirements\n",
    "\n",
    "- `requests`\n",
    "\n"
   ]
  },
  {
   "cell_type": "markdown",
   "metadata": {},
   "source": [
    "### Dataset\n",
    "\n",
    "Specify dataset directory and extensions of files you want to upload to Amphora.\n",
    "\n",
    "**Note**: File extensions must be a list/tuple."
   ]
  },
  {
   "cell_type": "code",
   "execution_count": null,
   "metadata": {},
   "outputs": [],
   "source": [
    "DATASET_DIR = '/foo/bar'\n",
    "UPLOAD_FILE_EXTENSIONS = ['.pdf', ]    # Must be a list/tuple."
   ]
  },
  {
   "cell_type": "markdown",
   "metadata": {},
   "source": [
    "### Amphora\n",
    "\n",
    "Specify Amphora specific properties. \n",
    "Reach out to Amphora admins for access token."
   ]
  },
  {
   "cell_type": "code",
   "execution_count": null,
   "metadata": {},
   "outputs": [],
   "source": [
    "AMPHORA_ACCESS_TOKEN = ''\n",
    "AMPHORA_COLLECTION = ''\n",
    "AMPHORA_RESOURCE_TYPE = 'Biblio: article'\n",
    "AMPHORA_RESOURCE_PUBLIC = False"
   ]
  },
  {
   "cell_type": "markdown",
   "metadata": {},
   "source": [
    "#### Internal Amphora Constants\n",
    "\n",
    "You wouldn't need to modify these."
   ]
  },
  {
   "cell_type": "code",
   "execution_count": null,
   "metadata": {},
   "outputs": [],
   "source": [
    "AMPHORA_SERVER = 'https://amphora.asu.edu'\n",
    "AMPHORA_APP_PATH = 'amphora'                 # Abs URL on Amphora server\n",
    "\n",
    "import posixpath\n",
    "from urlparse import urljoin\n",
    "UPLOAD_API_PATH = urljoin(AMPHORA_SERVER, posixpath.join(AMPHORA_APP_PATH, 'rest/resource/'))"
   ]
  },
  {
   "cell_type": "markdown",
   "metadata": {},
   "source": [
    "### Logging\n",
    "\n",
    "Configure logging."
   ]
  },
  {
   "cell_type": "code",
   "execution_count": null,
   "metadata": {},
   "outputs": [],
   "source": [
    "# Logging\n",
    "import logging\n",
    "logging.basicConfig()\n",
    "logging.getLogger().setLevel(logging.CRITICAL)\n",
    "logger = logging.getLogger('amphora_upload')\n",
    "logger.setLevel(logging.DEBUG)"
   ]
  },
  {
   "cell_type": "markdown",
   "metadata": {},
   "source": [
    "### Upload Dataset Files\n",
    "\n",
    "Set a few common things before starting upload."
   ]
  },
  {
   "cell_type": "code",
   "execution_count": null,
   "metadata": {},
   "outputs": [],
   "source": [
    "import os\n",
    "import requests\n",
    "import mimetypes\n",
    "import re\n",
    "\n",
    "filetype = re.compile('|'.join((re.escape(t)+'$' for t in UPLOAD_FILE_EXTENSIONS)))\n",
    "\n",
    "session = requests.Session()\n",
    "session.headers = {\n",
    "    'Authorization': 'Token %s' % (AMPHORA_ACCESS_TOKEN),\n",
    "}"
   ]
  },
  {
   "cell_type": "markdown",
   "metadata": {},
   "source": [
    "#### Begin Upload!\n",
    "\n",
    "Based on logging configuration, you should see upload progress real-time."
   ]
  },
  {
   "cell_type": "code",
   "execution_count": null,
   "metadata": {},
   "outputs": [],
   "source": [
    "for (dpath, dnames, fnames) in os.walk(os.path.abspath(os.path.expanduser(DATASET_DIR))):\n",
    "    if dnames:\n",
    "        dnames.sort()\n",
    "\n",
    "    if not fnames:\n",
    "        continue\n",
    "\n",
    "    for fname in fnames:\n",
    "        fpath = os.path.join(dpath, fname)\n",
    "        if not filetype.search(fpath):\n",
    "            continue\n",
    "\n",
    "        files = {\n",
    "            'upload_file': (fpath, open(fpath, 'rb'), mimetypes.guess_type(fpath)[0]),\n",
    "        }\n",
    "\n",
    "        data = {\n",
    "            'name': os.path.basename(fpath),\n",
    "            'collection': AMPHORA_COLLECTION,\n",
    "            'resource_type': AMPHORA_RESOURCE_TYPE,\n",
    "            'public': AMPHORA_RESOURCE_PUBLIC,\n",
    "        }\n",
    "\n",
    "        try:\n",
    "            response = session.post(UPLOAD_API_PATH, data=data, files=files)\n",
    "            if response.status_code != 200:\n",
    "                raise Exception(response.text)\n",
    "        except Exception as e:\n",
    "            logger.error('{}: {}'.format(fpath, e))\n",
    "            continue\n",
    "        else:\n",
    "            upload_id = response.json()['id']\n",
    "            logger.debug('{}: Uploaded (ID {})'.format(fpath, upload_id))"
   ]
  }
 ],
 "metadata": {
  "kernelspec": {
   "display_name": "Python 2",
   "language": "python",
   "name": "python2"
  },
  "language_info": {
   "codemirror_mode": {
    "name": "ipython",
    "version": 2
   },
   "file_extension": ".py",
   "mimetype": "text/x-python",
   "name": "python",
   "nbconvert_exporter": "python",
   "pygments_lexer": "ipython2",
   "version": "2.7.10"
  }
 },
 "nbformat": 4,
 "nbformat_minor": 2
}
