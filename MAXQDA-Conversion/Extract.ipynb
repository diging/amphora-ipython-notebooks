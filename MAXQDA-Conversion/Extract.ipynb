{
 "cells": [
  {
   "cell_type": "markdown",
   "metadata": {},
   "source": [
    "#MAXQDA Conversion\n",
    "<p>This notebook converts MAXQDA annotations into a format that can be used by Vogon.</p>"
   ]
  },
  {
   "cell_type": "code",
   "execution_count": 1,
   "metadata": {},
   "outputs": [
    {
     "ename": "ImportError",
     "evalue": "No module named pathlib",
     "output_type": "error",
     "traceback": [
      "\u001b[0;31m---------------------------------------------------------------------------\u001b[0m",
      "\u001b[0;31mImportError\u001b[0m                               Traceback (most recent call last)",
      "\u001b[0;32m<ipython-input-1-00e8912423f8>\u001b[0m in \u001b[0;36m<module>\u001b[0;34m()\u001b[0m\n\u001b[1;32m      6\u001b[0m \u001b[0;32mimport\u001b[0m \u001b[0mos\u001b[0m\u001b[0;34m\u001b[0m\u001b[0m\n\u001b[1;32m      7\u001b[0m \u001b[0;32mimport\u001b[0m \u001b[0murllib\u001b[0m\u001b[0;34m\u001b[0m\u001b[0m\n\u001b[0;32m----> 8\u001b[0;31m \u001b[0;32mfrom\u001b[0m \u001b[0mpathlib\u001b[0m \u001b[0;32mimport\u001b[0m \u001b[0mPath\u001b[0m\u001b[0;34m\u001b[0m\u001b[0m\n\u001b[0m\u001b[1;32m      9\u001b[0m \u001b[0;31m# Uncomment the next two lines if you want to see expanded output\u001b[0m\u001b[0;34m\u001b[0m\u001b[0;34m\u001b[0m\u001b[0m\n\u001b[1;32m     10\u001b[0m \u001b[0;31m#pd.options.display.max_colwidth\u001b[0m\u001b[0;34m\u001b[0m\u001b[0;34m\u001b[0m\u001b[0m\n",
      "\u001b[0;31mImportError\u001b[0m: No module named pathlib"
     ]
    }
   ],
   "source": [
    "import re\n",
    "import pandas as pd\n",
    "import csv\n",
    "import string\n",
    "import time\n",
    "import os\n",
    "import urllib\n",
    "from pathlib import Path\n",
    "# Uncomment the next two lines if you want to see expanded output\n",
    "#pd.options.display.max_colwidth\n",
    "#pd.set_option('display.max_colwidth', -1)"
   ]
  },
  {
   "cell_type": "markdown",
   "metadata": {},
   "source": [
    "###Paste the file path to the file that contains the text that your annotations came from. To copy file paths on mac right click on the file then press the option key and click on Copy (item name) as Pathname. On windows hold shift and then right click and select 'Copy as path'. "
   ]
  },
  {
   "cell_type": "code",
   "execution_count": 2,
   "metadata": {
    "collapsed": true
   },
   "outputs": [],
   "source": [
    "file_path = ''\n",
    "f = open(file_path)\n",
    "text = f.read()"
   ]
  },
  {
   "cell_type": "markdown",
   "metadata": {},
   "source": [
    "###Paste the file path to csv file that contains the annotations that you would like to convert."
   ]
  },
  {
   "cell_type": "code",
   "execution_count": 3,
   "metadata": {
    "collapsed": true
   },
   "outputs": [],
   "source": [
    "csv_file_path = ''\n",
    "annotations = pd.read_csv(csv_file_path)"
   ]
  },
  {
   "cell_type": "markdown",
   "metadata": {},
   "source": [
    "###Paste the file path to the folder that you would like the generated csv to download to"
   ]
  },
  {
   "cell_type": "code",
   "execution_count": 4,
   "metadata": {
    "collapsed": true
   },
   "outputs": [],
   "source": [
    "save_folder = ''"
   ]
  },
  {
   "cell_type": "markdown",
   "metadata": {},
   "source": [
    "###Get position of annotations in text (May take a while for large files)."
   ]
  },
  {
   "cell_type": "code",
   "execution_count": 6,
   "metadata": {},
   "outputs": [
    {
     "name": "stdout",
     "output_type": "stream",
     "text": [
      "The total number of matches is 23\n"
     ]
    }
   ],
   "source": [
    "root, ext = os.path.splitext(Path(file_path).name)\n",
    "name = save_folder\n",
    "name = name + \"/\" + root + '.csv'\n",
    "count = 0\n",
    "with open(name, \"w\") as csv_file:\n",
    "    writer = csv.writer(csv_file, delimiter=',')\n",
    "    header = [\"Segment\", \"Start\", \"End\", \"Occurs\", \"Concept\"]\n",
    "    writer.writerow(header)\n",
    "    for index, row in annotations.iterrows():\n",
    "        found_annotations = []\n",
    "        seg = row['Segment']\n",
    "        seg = re.sub(r'\\(', r'\\\\(', seg ) #Need to escape paraenthesis due to regex\n",
    "        seg = re.sub(r'\\)', r'\\\\)', seg )\n",
    "        seg = re.sub(r'\\?', r' ', seg )\n",
    "        seg = re.sub(r'[^\\x00-\\x7F]+',' ', seg)\n",
    "        seg = re.sub(r'\\s+', ' ', seg)\n",
    "        seg = re.sub(r'\\\\r', ' ', seg)\n",
    "        regex_group = re.search(seg, text, re.M | re.DOTALL)\n",
    "        url =  'http://diging.asu.edu/uri/leuphana/' + str(row['Dokumentname'])\n",
    "        if regex_group:\n",
    "            found = regex_group.group(0)\n",
    "            found_annotations.append(str(found))\n",
    "            found_annotations.append(str(regex_group.start()))\n",
    "            found_annotations.append(str(regex_group.end()))\n",
    "            found_annotations.append(url)\n",
    "            found_annotations.append( row['Code'])\n",
    "            writer.writerow(found_annotations)\n",
    "            count += 1\n",
    "        else:\n",
    "            seg = re.sub(r'\\W+', '\\\\W+', seg)\n",
    "            regex_group = re.search(seg, text, re.M | re.DOTALL)\n",
    "            if regex_group:\n",
    "                found = regex_group.group(0)\n",
    "                found_annotations.append(str(found))\n",
    "                found_annotations.append(str(regex_group.start()))\n",
    "                found_annotations.append(str(regex_group.end()))\n",
    "                found_annotations.append(url)\n",
    "                found_annotations.append( row['Code'])\n",
    "                writer.writerow(found_annotations)\n",
    "                count += 1\n",
    "print(\"The total number of matches is {}\".format(count))"
   ]
  },
  {
   "cell_type": "code",
   "execution_count": null,
   "metadata": {
    "collapsed": true
   },
   "outputs": [],
   "source": []
  },
  {
   "cell_type": "code",
   "execution_count": null,
   "metadata": {
    "collapsed": true
   },
   "outputs": [],
   "source": []
  },
  {
   "cell_type": "code",
   "execution_count": null,
   "metadata": {
    "collapsed": true
   },
   "outputs": [],
   "source": []
  },
  {
   "cell_type": "code",
   "execution_count": null,
   "metadata": {
    "collapsed": true
   },
   "outputs": [],
   "source": []
  },
  {
   "cell_type": "code",
   "execution_count": null,
   "metadata": {
    "collapsed": true
   },
   "outputs": [],
   "source": []
  }
 ],
 "metadata": {
  "kernelspec": {
   "display_name": "Python 2",
   "language": "python",
   "name": "python2"
  },
  "language_info": {
   "codemirror_mode": {
    "name": "ipython",
    "version": 2
   },
   "file_extension": ".py",
   "mimetype": "text/x-python",
   "name": "python",
   "nbconvert_exporter": "python",
   "pygments_lexer": "ipython2",
   "version": "2.7.13"
  }
 },
 "nbformat": 4,
 "nbformat_minor": 2
}
